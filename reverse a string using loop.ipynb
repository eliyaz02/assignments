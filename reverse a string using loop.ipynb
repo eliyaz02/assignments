{
 "cells": [
  {
   "cell_type": "code",
   "execution_count": 10,
   "id": "41cf5816",
   "metadata": {},
   "outputs": [
    {
     "name": "stdout",
     "output_type": "stream",
     "text": [
      "Please enter the input word\n",
      "Edyoda\n",
      "The original string is : Edyoda\n",
      "The reversed string (using loops) is : adoydE\n"
     ]
    }
   ],
   "source": [
    "#reverse a string using loop\n",
    "\n",
    "def reverse(s):\n",
    "    str = ''\n",
    "    for i in s:\n",
    "        str = i + str\n",
    "    return str\n",
    "    \n",
    "print(\"Please enter the input word\")\n",
    "word = input()\n",
    "    \n",
    "print (\"The original string is : \",end=\"\")\n",
    "print (word)\n",
    "    \n",
    "print (\"The reversed string (using loops) is : \",end='')\n",
    "print (reverse(word))"
   ]
  },
  {
   "cell_type": "code",
   "execution_count": null,
   "id": "bdefc88d",
   "metadata": {},
   "outputs": [],
   "source": []
  }
 ],
 "metadata": {
  "kernelspec": {
   "display_name": "Python 3 (ipykernel)",
   "language": "python",
   "name": "python3"
  },
  "language_info": {
   "codemirror_mode": {
    "name": "ipython",
    "version": 3
   },
   "file_extension": ".py",
   "mimetype": "text/x-python",
   "name": "python",
   "nbconvert_exporter": "python",
   "pygments_lexer": "ipython3",
   "version": "3.10.0"
  }
 },
 "nbformat": 4,
 "nbformat_minor": 5
}
