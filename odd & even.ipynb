{
 "cells": [
  {
   "cell_type": "code",
   "execution_count": 9,
   "id": "2ae825a3",
   "metadata": {},
   "outputs": [
    {
     "name": "stdout",
     "output_type": "stream",
     "text": [
      "coun of even nubers is 4\n",
      "coun of odd nubers is 5\n"
     ]
    }
   ],
   "source": [
    "ab = (1,2,3,4,5,6,7,8,9)\n",
    "even = 0\n",
    "odd = 0\n",
    "for i in ab:\n",
    "    if  i  % 2 == 0:\n",
    "        even = even+1\n",
    "    else:\n",
    "        odd = odd+1\n",
    "        \n",
    "print(\"coun of even nubers is\",even)\n",
    "print(\"coun of odd nubers is\",odd)"
   ]
  },
  {
   "cell_type": "code",
   "execution_count": null,
   "id": "16bf8609",
   "metadata": {},
   "outputs": [],
   "source": []
  }
 ],
 "metadata": {
  "kernelspec": {
   "display_name": "Python 3 (ipykernel)",
   "language": "python",
   "name": "python3"
  },
  "language_info": {
   "codemirror_mode": {
    "name": "ipython",
    "version": 3
   },
   "file_extension": ".py",
   "mimetype": "text/x-python",
   "name": "python",
   "nbconvert_exporter": "python",
   "pygments_lexer": "ipython3",
   "version": "3.10.0"
  }
 },
 "nbformat": 4,
 "nbformat_minor": 5
}
